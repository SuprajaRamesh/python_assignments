{
  "nbformat": 4,
  "nbformat_minor": 0,
  "metadata": {
    "colab": {
      "name": "Assignment1.ipynb",
      "provenance": [],
      "collapsed_sections": []
    },
    "kernelspec": {
      "name": "python3",
      "display_name": "Python 3"
    }
  },
  "cells": [
    {
      "cell_type": "code",
      "metadata": {
        "colab": {
          "base_uri": "https://localhost:8080/"
        },
        "id": "hb2ac874zW4i",
        "outputId": "7ae6c157-1b2e-4525-fba2-53624e20941b"
      },
      "source": [
        "# Write a Python program to print all Prime numbers in an Interval.\n",
        "start = int(input(\"Enter the starting number\"))\n",
        "end = int(input(\"Enter the ending number\"))\n",
        "for num in range(start, end):\n",
        "  if num > 1:\n",
        "    for i in range(2, num):\n",
        "      if (num % i == 0):\n",
        "        break\n",
        "    else:\n",
        "      print(num)"
      ],
      "execution_count": 1,
      "outputs": [
        {
          "output_type": "stream",
          "text": [
            "Enter the starting number12\n",
            "Enter the ending number23\n",
            "13\n",
            "17\n",
            "19\n"
          ],
          "name": "stdout"
        }
      ]
    },
    {
      "cell_type": "code",
      "metadata": {
        "colab": {
          "base_uri": "https://localhost:8080/"
        },
        "id": "s1WZk3Aaz88H",
        "outputId": "34ba64bd-eaa3-4988-f3ef-ae4bbb4e6e65"
      },
      "source": [
        "# Write a Python Program for factorial of a number.\n",
        "num = int(input(\"Enter the number\"))\n",
        "i = 1\n",
        "fact = 1\n",
        "while i <= num:\n",
        "  fact = fact * i\n",
        "  i+=1\n",
        "print(fact)"
      ],
      "execution_count": 2,
      "outputs": [
        {
          "output_type": "stream",
          "text": [
            "Enter the number15\n",
            "1307674368000\n"
          ],
          "name": "stdout"
        }
      ]
    },
    {
      "cell_type": "code",
      "metadata": {
        "colab": {
          "base_uri": "https://localhost:8080/"
        },
        "id": "Vv2MS9Mh4PGd",
        "outputId": "94ee6c03-8349-4725-b3a2-a8b3e4834bbb"
      },
      "source": [
        "# Find the sum of n numbers by using the while loop\n",
        "n = int(input(\"Enter the value of n\"))\n",
        "i = 1\n",
        "sum = 0\n",
        "while i<=n:\n",
        "  sum = sum + i\n",
        "  i+=1\n",
        "print(sum)"
      ],
      "execution_count": 3,
      "outputs": [
        {
          "output_type": "stream",
          "text": [
            "Enter the value of n12\n",
            "78\n"
          ],
          "name": "stdout"
        }
      ]
    },
    {
      "cell_type": "code",
      "metadata": {
        "id": "6DG_08NPC-iN"
      },
      "source": [
        ""
      ],
      "execution_count": 3,
      "outputs": []
    }
  ]
}