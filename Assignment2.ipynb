{
  "nbformat": 4,
  "nbformat_minor": 0,
  "metadata": {
    "colab": {
      "name": "Assignment2.ipynb",
      "provenance": [],
      "collapsed_sections": []
    },
    "kernelspec": {
      "name": "python3",
      "display_name": "Python 3"
    }
  },
  "cells": [
    {
      "cell_type": "code",
      "metadata": {
        "colab": {
          "base_uri": "https://localhost:8080/"
        },
        "id": "jCK637H6FlxK",
        "outputId": "615550a7-7c75-4b9a-8b49-874ba4e78284"
      },
      "source": [
        "# Write a Python program to remove empty List from List.\n",
        "\n",
        "list_obj = [1,2,3, [], \"test\", ['a', 'b'], []]\n",
        "list_obj_dup = list_obj[:]\n",
        "index = 0\n",
        "\n",
        "for element in list_obj_dup:\n",
        "  if isinstance(element, list):\n",
        "    if len(element) == 0:\n",
        "      list_obj.pop(index)\n",
        "      index -= 1 # to compensate the value that was popped out\n",
        "  index += 1\n",
        "\n",
        "list_obj"
      ],
      "execution_count": 25,
      "outputs": [
        {
          "output_type": "execute_result",
          "data": {
            "text/plain": [
              "[1, 2, 3, 'test', ['a', 'b']]"
            ]
          },
          "metadata": {
            "tags": []
          },
          "execution_count": 25
        }
      ]
    },
    {
      "cell_type": "code",
      "metadata": {
        "id": "QO-wd1D_HFFP",
        "colab": {
          "base_uri": "https://localhost:8080/"
        },
        "outputId": "23168b4c-70f6-41f6-b768-e19b7937afb6"
      },
      "source": [
        "# Write a Python program to remove all duplicates words from a given sentence\n",
        "\n",
        "sentence = input(\"Enter a sentence\")\n",
        "list_words = sentence.split(\" \")\n",
        "dict_sentence = {}\n",
        "\n",
        "for word in list_words:\n",
        "  word = word.lower()\n",
        "  if dict_sentence.get(word):\n",
        "    dict_sentence[word] = dict_sentence[word] + 1\n",
        "  else:\n",
        "    dict_sentence[word] = 1\n",
        "\n",
        "unique_words = list(dict_sentence.keys())\n",
        "updated_sentence = \"\"\n",
        "\n",
        "for word in unique_words:\n",
        "  updated_sentence = updated_sentence + \" \" + word\n",
        "\n",
        "print(updated_sentence)"
      ],
      "execution_count": 18,
      "outputs": [
        {
          "output_type": "stream",
          "text": [
            "Enter a sentenceHello Hello this is a python python program\n",
            " Hello this is a python program\n"
          ],
          "name": "stdout"
        }
      ]
    },
    {
      "cell_type": "code",
      "metadata": {
        "colab": {
          "base_uri": "https://localhost:8080/"
        },
        "id": "B9_gO6YVV-9t",
        "outputId": "7e6cfe51-17ca-4399-958a-f1236ac6bae3"
      },
      "source": [
        "# Write a Python program to find all occurrences of a character in the given string\n",
        "\n",
        "ch = input('Enter the character ')\n",
        "str = input('Enter the sentence ')\n",
        "length = len(str)\n",
        "i = 0\n",
        "indexes = []\n",
        "count_str = str.count(ch)\n",
        "\n",
        "if count_str != 0:\n",
        "  str.lower()\n",
        "  ch.lower()\n",
        "  if count_str == 1:\n",
        "    print(str.find(ch))\n",
        "  else:\n",
        "    while i < length:\n",
        "      ind = str.find(ch, i)\n",
        "      if ind != -1:\n",
        "        i = ind + 1\n",
        "        indexes.append(i)\n",
        "      else:\n",
        "        break\n",
        "\n",
        "print(indexes)"
      ],
      "execution_count": 23,
      "outputs": [
        {
          "output_type": "stream",
          "text": [
            "Enter the character a\n",
            "Enter the sentence ennam pol vazhkai\n",
            "[4, 12, 16]\n"
          ],
          "name": "stdout"
        }
      ]
    },
    {
      "cell_type": "code",
      "metadata": {
        "id": "3tSwuYfMXLPz"
      },
      "source": [
        ""
      ],
      "execution_count": 23,
      "outputs": []
    }
  ]
}