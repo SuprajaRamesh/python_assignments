{
  "nbformat": 4,
  "nbformat_minor": 0,
  "metadata": {
    "colab": {
      "name": "Assignment3.ipynb",
      "provenance": [],
      "collapsed_sections": []
    },
    "kernelspec": {
      "name": "python3",
      "display_name": "Python 3"
    }
  },
  "cells": [
    {
      "cell_type": "code",
      "metadata": {
        "id": "wkQDnDy9ZNiR"
      },
      "source": [
        "# Write a Python program to merge two files into a third file.\n",
        "data = data2 = \"\" \n",
        "with open('file1.txt') as fp: \n",
        "    data = fp.read() \n",
        "    with open('file2.txt') as fp: \n",
        "      data2 = fp.read() \n",
        "\n",
        "data += \"\\n\"\n",
        "data += data2 \n",
        "with open ('file3.txt', 'w') as fp: \n",
        "  fp.write(data)"
      ],
      "execution_count": 10,
      "outputs": []
    },
    {
      "cell_type": "code",
      "metadata": {
        "colab": {
          "base_uri": "https://localhost:8080/"
        },
        "id": "vfabFFqzZUZd",
        "outputId": "97dfd0ed-cfeb-4a12-effc-e27da43c1b79"
      },
      "source": [
        "''' Take two lists as input list1 = [1,2,3,4,5] and list2 = [\"a\", \"b\", \"c\", \"d\", \"e\"] From that make a\n",
        "dictionary ouput {1:\"a\", 2:\"b\", 3:\"c\", 4:\"d\", 5:\"e\"} '''\n",
        "\n",
        "list1 = [1,2,3,4,5]\n",
        "list2 = [\"a\", \"b\", \"c\", \"d\", \"e\"]\n",
        "\n",
        "list1_len = len(list1)\n",
        "ind = 0\n",
        "output = {}\n",
        "if list1_len == len(list2):\n",
        "  while ind < list1_len:\n",
        "    output[list1[ind]] = list2[ind]\n",
        "    ind += 1\n",
        "\n",
        "print(output)"
      ],
      "execution_count": 1,
      "outputs": [
        {
          "output_type": "stream",
          "text": [
            "{1: 'a', 2: 'b', 3: 'c', 4: 'd', 5: 'e'}\n"
          ],
          "name": "stdout"
        }
      ]
    },
    {
      "cell_type": "code",
      "metadata": {
        "id": "VFXHiL2NaLvV"
      },
      "source": [
        ""
      ],
      "execution_count": null,
      "outputs": []
    }
  ]
}